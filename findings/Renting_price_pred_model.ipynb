{
 "cells": [
  {
   "cell_type": "markdown",
   "metadata": {},
   "source": [
    "# ML Model - Kampar renting price prediction"
   ]
  },
  {
   "cell_type": "markdown",
   "metadata": {},
   "source": [
    "## GridSearch for the best parameter"
   ]
  },
  {
   "cell_type": "code",
   "execution_count": 339,
   "metadata": {},
   "outputs": [
    {
     "name": "stdout",
     "output_type": "stream",
     "text": [
      "RBF Best Param=  {'alpha': 1.0, 'gamma': 0.1}\n",
      "RBF Best Score=  0.29093950217242026\n"
     ]
    }
   ],
   "source": [
    "kerR = KernelRidge(kernel='rbf')\n",
    "kr = GridSearchCV(estimator=kerR,param_grid={\"alpha\": np.logspace(-5,2,8),\"gamma\": np.logspace(-2, 2, 5)})\n",
    "kr.fit(X_train,y_train)\n",
    "print('RBF Best Param= ',kr.best_params_)\n",
    "print('RBF Best Score= ',abs(kr.best_score_))"
   ]
  },
  {
   "cell_type": "code",
   "execution_count": 343,
   "metadata": {},
   "outputs": [
    {
     "name": "stdout",
     "output_type": "stream",
     "text": [
      "EltN Best Param=  {'alpha': 0.01, 'l1_ratio': 0.2}\n",
      "EltN Best Score=  261575.5755411284\n"
     ]
    }
   ],
   "source": [
    "elastic=ElasticNet(normalize=True)\n",
    "elt=GridSearchCV(estimator=elastic,param_grid={'alpha':np.logspace(-5,2,8),'l1_ratio':[.2,.4,.6,.8]},scoring='neg_mean_squared_error',n_jobs=10,refit=True,cv=10)\n",
    "elt.fit(X_train,y_train)\n",
    "print('EltN Best Param= ',elt.best_params_)\n",
    "print('EltN Best Score= ',abs(elt.best_score_))"
   ]
  },
  {
   "cell_type": "markdown",
   "metadata": {},
   "source": [
    "## Train model"
   ]
  },
  {
   "cell_type": "code",
   "execution_count": 5,
   "metadata": {},
   "outputs": [],
   "source": [
    "import pandas as pd\n",
    "import numpy as np\n",
    "from sklearn.model_selection import GridSearchCV\n",
    "from sklearn.linear_model import ElasticNet\n",
    "from sklearn.linear_model import LinearRegression\n",
    "from sklearn.metrics import mean_squared_error\n",
    "from sklearn import preprocessing\n",
    "from sklearn.preprocessing import LabelBinarizer\n",
    "from sklearn.preprocessing import StandardScaler\n",
    "from sklearn.kernel_ridge import KernelRidge\n",
    "from sklearn.svm import SVR\n",
    "from sklearn.ensemble import RandomForestRegressor\n",
    "df = pd.read_csv('Data.csv')\n",
    "\n",
    "num = df.drop(['Property_name','Category','lat','lng','Renting_price'],axis=1)\n",
    "cat1 = df['Property_name']\n",
    "cat2 = df['Category']\n",
    "\n",
    "scaler = StandardScaler(copy = False)\n",
    "scaler.fit(num)       \n",
    "x_num = scaler.transform(num)\n",
    "\n",
    "lb = preprocessing.LabelBinarizer()\n",
    "x_cat1 = cat1\n",
    "x_cat2 = cat2\n",
    "lb.fit(x_cat1)\n",
    "lb.fit(x_cat2)\n",
    "x_cat1 = lb.transform(x_cat1)\n",
    "x_cat2 = lb.transform(x_cat2)\n",
    "\n",
    "x_train = np.hstack([x_num,x_cat1,x_cat2])\n",
    "y_train = np.asarray(df['Renting_price'])\n",
    "\n",
    "from sklearn import model_selection\n",
    "x_train,x_test,y_train,y_test=model_selection.train_test_split(x_train,y_train,test_size=0.2, random_state=42)\n",
    "\n",
    "elastic=ElasticNet(normalize=True)\n",
    "search=GridSearchCV(estimator=elastic,param_grid={'alpha':np.logspace(-5,2,8),'l1_ratio':[.2,.4,.6,.8]},scoring='neg_mean_squared_error',n_jobs=20,refit=True,cv=10)\n"
   ]
  },
  {
   "cell_type": "markdown",
   "metadata": {},
   "source": [
    "# Regression 1 - ElasticNet"
   ]
  },
  {
   "cell_type": "code",
   "execution_count": 344,
   "metadata": {},
   "outputs": [
    {
     "data": {
      "image/png": "[encoded data removed]",
      "text/plain": [
       "<Figure size 432x288 with 1 Axes>"
      ]
     },
     "metadata": {
      "needs_background": "light"
     },
     "output_type": "display_data"
    },
    {
     "name": "stdout",
     "output_type": "stream",
     "text": [
      "r2 score =  0.1022813006210268\n",
      "rmse =  552.2495704700075\n"
     ]
    }
   ],
   "source": [
    "from sklearn.linear_model import ElasticNet\n",
    "elastic=ElasticNet(normalize=True,alpha=0.1,l1_ratio=0.2)\n",
    "elastic.fit(X_train,y_train)\n",
    "\n",
    "from sklearn.metrics import r2_score\n",
    "import matplotlib.pyplot as plt\n",
    "y_pred=elastic.predict(X_train)\n",
    "plt.scatter(y_pred,y_train)\n",
    "plt.title('ENL Prediction vs Actual - Test Data')\n",
    "plt.xlabel('Prediction')\n",
    "plt.ylabel('Actual')\n",
    "plt.show()\n",
    "r2=r2_score(y_true=y_test,y_pred=elastic.predict(X_test))\n",
    "rmse=np.sqrt(mean_squared_error(y_true=y_train,y_pred=elastic.predict(X_train)))\n",
    "print('r2 score = ',r2)\n",
    "print('rmse = ',rmse)"
   ]
  },
  {
   "cell_type": "markdown",
   "metadata": {},
   "source": [
    "# Regression 1 - Radial Basis Function"
   ]
  },
  {
   "cell_type": "code",
   "execution_count": 324,
   "metadata": {},
   "outputs": [
    {
     "data": {
      "image/png": "[encoded data removed]",
      "text/plain": [
       "<Figure size 432x288 with 1 Axes>"
      ]
     },
     "metadata": {
      "needs_background": "light"
     },
     "output_type": "display_data"
    },
    {
     "name": "stdout",
     "output_type": "stream",
     "text": [
      "r2 score =  0.8437101882113607\n",
      "rmse =  40.493513411235384\n"
     ]
    }
   ],
   "source": [
    "from sklearn.kernel_ridge import KernelRidge\n",
    "ker = KernelRidge(kernel='rbf',alpha=0.001,gamma=0.1)\n",
    "ker.fit(X_train,y_train)\n",
    "\n",
    "from sklearn.metrics import r2_score\n",
    "import matplotlib.pyplot as plt\n",
    "y_pred=ker.predict(X_test)\n",
    "plt.scatter(y_pred,y_test)\n",
    "plt.title('RBF Prediction vs Actual - Test Data')\n",
    "plt.xlabel('Prediction')\n",
    "plt.ylabel('Actual')\n",
    "plt.show()\n",
    "r2=r2_score(y_true=y_test,y_pred=ker.predict(X_test))\n",
    "rmse=np.sqrt(mean_squared_error(y_true=y_train,y_pred=ker.predict(X_train)))\n",
    "print('r2 score = ',r2)\n",
    "print('rmse = ',rmse)"
   ]
  }
 ],
 "metadata": {
  "kernelspec": {
   "display_name": "Python 3",
   "language": "python",
   "name": "python3"
  },
  "language_info": {
   "codemirror_mode": {
    "name": "ipython",
    "version": 3
   },
   "file_extension": ".py",
   "mimetype": "text/x-python",
   "name": "python",
   "nbconvert_exporter": "python",
   "pygments_lexer": "ipython3",
   "version": "3.6.10"
  }
 },
 "nbformat": 4,
 "nbformat_minor": 2
}
