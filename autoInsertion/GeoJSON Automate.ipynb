{
 "cells": [
  {
   "cell_type": "markdown",
   "metadata": {},
   "source": [
    "# This Document will automate the GeoJSON data insertion\n"
   ]
  },
  {
   "cell_type": "code",
   "execution_count": 122,
   "metadata": {
    "scrolled": true
   },
   "outputs": [],
   "source": [
    "import pandas as pd\n",
    "\n",
    "data = pd.read_csv(\"Data.csv\")\n",
    "data['lat']=round(data['lat'],6)\n",
    "data['lng']=round(data['lng'],6)\n",
    "\n",
    "spl=data.groupby('Category')\n",
    "dh=spl.get_group('House').reset_index()\n",
    "da=spl.get_group('Apartment').reset_index()\n",
    "dr=spl.get_group('Room').reset_index()\n",
    "\n",
    "##for houseData.js##\n",
    "h=open(\"houseData.js\",\"a+\")\n",
    "h.writelines(['var houseData={\"type\":\"FeatureCollection\",\"crs\":{\"type\":\"name\",\"properties\":{\"name\":\"urn:ogc:def:crs:OGC:1.3:CRS84\"}},\"features\":[\\n'])\n",
    "hrow,hcol = dh.shape\n",
    "for i in range(hrow):\n",
    "    h.writelines(['{\"type\":\"Feature\",\"properties\":{\"price\":', str(dh['Renting_price'][i]),'},\\n'])\n",
    "    h.writelines(['\"geometry\":{\"type\":\"Point\",\"coordinates\":[',str(dh['lng'][i]),',',str(dh['lat'][i]),']}},\\n'])\n",
    "h.writelines([']};'])\n",
    "h.close()\n",
    "\n",
    "\n",
    "##for roomData.js##\n",
    "r=open(\"roomData.js\",\"a+\")\n",
    "r.writelines(['var roomData={\"type\":\"FeatureCollection\",\"crs\":{\"type\":\"name\",\"properties\":{\"name\":\"urn:ogc:def:crs:OGC:1.3:CRS84\"}},\"features\":[\\n'])\n",
    "rrow,rcol = dr.shape\n",
    "for i in range(rrow):\n",
    "    r.writelines(['{\"type\":\"Feature\",\"properties\":{\"price\":', str(dr['Renting_price'][i]),'},\\n'])\n",
    "    r.writelines(['\"geometry\":{\"type\":\"Point\",\"coordinates\":[',str(dr['lng'][i]),',',str(dr['lat'][i]),']}},\\n'])\n",
    "r.writelines([']};'])\n",
    "r.close()\n",
    "\n",
    "##for apartmentData##\n",
    "a=open(\"apartmentData.js\",\"a+\")\n",
    "a.writelines(['var apartmentData={\"type\":\"FeatureCollection\",\"crs\":{\"type\":\"name\",\"properties\":{\"name\":\"urn:ogc:def:crs:OGC:1.3:CRS84\"}},\"features\":[\\n'])\n",
    "arow,acol = da.shape\n",
    "for i in range(arow):\n",
    "    a.writelines(['{\"type\":\"Feature\",\"properties\":{\"price\":', str(da['Renting_price'][i]),'},\\n'])\n",
    "    a.writelines(['\"geometry\":{\"type\":\"Point\",\"coordinates\":[',str(da['lng'][i]),',',str(da['lat'][i]),']}},\\n'])\n",
    "a.writelines([']};'])\n",
    "a.close()"
   ]
  },
  {
   "cell_type": "code",
   "execution_count": 192,
   "metadata": {},
   "outputs": [],
   "source": [
    "import pandas as pd\n",
    "\n",
    "data = pd.read_csv(\"Data.csv\")\n",
    "data['lat']=round(data['lat'],6)\n",
    "data['lng']=round(data['lng'],6)\n",
    "\n",
    "spl=data.groupby('Category')\n",
    "dh=spl.get_group('House').reset_index()\n",
    "da=spl.get_group('Apartment').reset_index()\n",
    "dr=spl.get_group('Room').reset_index()\n"
   ]
  },
  {
   "cell_type": "code",
   "execution_count": 222,
   "metadata": {},
   "outputs": [
    {
     "name": "stdout",
     "output_type": "stream",
     "text": [
      "Ensure: True\n"
     ]
    }
   ],
   "source": [
    "import itertools as it\n",
    "\n",
    "def reqRadar(request):\n",
    "    if(request=='avgH'):\n",
    "        locD=dh\n",
    "    if(request=='avgA'):\n",
    "        locD=da\n",
    "    if(request=='avgR'):\n",
    "        locD=dr\n",
    "    Item=[]\n",
    "    nItem=[]\n",
    "    for i in it.chain(range(8,15),range(17,24)):\n",
    "        Item.append(locD.columns[i])\n",
    "        nItem.append(locD.sum()[i])\n",
    "    return(Item,nItem)\n",
    "\n",
    "xh,yh=reqRadar('avgH')\n",
    "xa,ya=reqRadar('avgA')\n",
    "xr,yr=reqRadar('avgR')\n",
    "\n",
    "print(\"Ensure:\",len(xh)==len(yh)&len(xa)==len(ya)&len(xr)==len(yr))\n",
    "label=['WiFi','Car Park','Air-Cond','Housekeeping','Laundry','Washing Machine','Dryer Machine','Kitchen','Wardrobe','Fridge','Sofa','TV','Water Heater','Shuttle Van']"
   ]
  },
  {
   "cell_type": "code",
   "execution_count": null,
   "metadata": {},
   "outputs": [],
   "source": [
    "radar=open(\"chart-bar-demo.js\",\"a+\")\n",
    "radar.writelines([\"var yh=\",yh,\";\\n\"])\n",
    "radar.writelines([\"var ya=\",ya,\";\\n\"])\n",
    "radar.writelines([\"var yr=\",yr,\";\\n\"])\n",
    "radar.writelines([\"var myRadarChart={type:'radar',\\n\"])\n",
    "radar.writelines([\"data{labels:\",label,\",\"])\n",
    "radar.writelines([\"datasets:[{data:,\",,\"\"])\n",
    "\n"
   ]
  },
  {
   "cell_type": "code",
   "execution_count": 221,
   "metadata": {},
   "outputs": [
    {
     "data": {
      "text/plain": [
       "['WiFi',\n",
       " 'CarPark',\n",
       " 'AirCond',\n",
       " 'HsKpngServ',\n",
       " 'LndryServ',\n",
       " 'WashingMac',\n",
       " 'DryerMac',\n",
       " 'Kitchen',\n",
       " 'Wardrobe',\n",
       " 'Fridge',\n",
       " 'Sofa',\n",
       " 'TV',\n",
       " 'Heater',\n",
       " 'ShuttleVan']"
      ]
     },
     "execution_count": 221,
     "metadata": {},
     "output_type": "execute_result"
    }
   ],
   "source": [
    "xa"
   ]
  },
  {
   "cell_type": "code",
   "execution_count": null,
   "metadata": {},
   "outputs": [],
   "source": []
  }
 ],
 "metadata": {
  "kernelspec": {
   "display_name": "Python 3",
   "language": "python",
   "name": "python3"
  },
  "language_info": {
   "codemirror_mode": {
    "name": "ipython",
    "version": 3
   },
   "file_extension": ".py",
   "mimetype": "text/x-python",
   "name": "python",
   "nbconvert_exporter": "python",
   "pygments_lexer": "ipython3",
   "version": "3.6.10"
  }
 },
 "nbformat": 4,
 "nbformat_minor": 4
}
